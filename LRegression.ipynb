{
 "cells": [
  {
   "cell_type": "code",
   "execution_count": null,
   "id": "f4f58674-45de-41b2-bdc7-aacc367996ab",
   "metadata": {},
   "outputs": [],
   "source": [
    "import pandas\n",
    "from pandas import DataFrame\n",
    "import matplotlib.pyplot as plt"
   ]
  },
  {
   "cell_type": "code",
   "execution_count": null,
   "id": "4399d431-5d12-4609-bb9b-1bc632655e4d",
   "metadata": {},
   "outputs": [],
   "source": [
    "data = pandas.read_csv('data/3.2 cost_revenue_clean.csv')"
   ]
  },
  {
   "cell_type": "code",
   "execution_count": null,
   "id": "7f3da291-82f2-4d98-9c47-6f63dda8e049",
   "metadata": {},
   "outputs": [],
   "source": []
  },
  {
   "cell_type": "code",
   "execution_count": null,
   "id": "266dcb09-4500-4bcc-9054-64d61fc0bc37",
   "metadata": {},
   "outputs": [],
   "source": [
    " X = DataFrame(data, columns=['production_budget_usd'])"
   ]
  },
  {
   "cell_type": "code",
   "execution_count": null,
   "id": "cc14cc1e-3389-4d16-b4d1-d7eb7d04e26e",
   "metadata": {},
   "outputs": [],
   "source": [
    "y = DataFrame(data, columns=['worldwide_gross_usd'])"
   ]
  },
  {
   "cell_type": "code",
   "execution_count": null,
   "id": "5a771fd5-930a-4125-ae1a-3a6dff3df52f",
   "metadata": {},
   "outputs": [],
   "source": [
    "plt.scatter(X, y)\n",
    "plt.show()"
   ]
  },
  {
   "cell_type": "code",
   "execution_count": null,
   "id": "a7f29caf-0129-4bf3-a07e-0b3993968ae5",
   "metadata": {},
   "outputs": [],
   "source": []
  },
  {
   "cell_type": "code",
   "execution_count": null,
   "id": "bbf9dc8a-03a8-46cf-ba88-c2ab85ca2bae",
   "metadata": {},
   "outputs": [],
   "source": []
  }
 ],
 "metadata": {
  "kernelspec": {
   "display_name": "Python 3 (ipykernel)",
   "language": "python",
   "name": "python3"
  },
  "language_info": {
   "codemirror_mode": {
    "name": "ipython",
    "version": 3
   },
   "file_extension": ".py",
   "mimetype": "text/x-python",
   "name": "python",
   "nbconvert_exporter": "python",
   "pygments_lexer": "ipython3",
   "version": "3.10.0"
  }
 },
 "nbformat": 4,
 "nbformat_minor": 5
}
